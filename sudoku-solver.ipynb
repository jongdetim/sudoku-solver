{
 "cells": [
  {
   "cell_type": "code",
   "execution_count": 1,
   "metadata": {},
   "outputs": [],
   "source": [
    "import numpy as np"
   ]
  },
  {
   "cell_type": "code",
   "execution_count": 197,
   "metadata": {},
   "outputs": [],
   "source": [
    "sudoku = np.array([\n",
    "    [6,2,0,0,0,0,0,9,5],\n",
    "    [0,0,1,0,7,8,0,0,6],\n",
    "    [0,0,0,2,0,6,1,0,0],\n",
    "    [0,8,0,0,1,7,0,5,0],\n",
    "    [0,5,3,0,0,0,4,0,7],\n",
    "    [2,0,0,8,5,0,0,0,0],\n",
    "    [8,0,0,0,3,2,7,0,0],\n",
    "    [0,4,9,0,0,5,2,0,0],\n",
    "    [7,0,0,0,8,0,0,4,3]\n",
    "])\n",
    "empty = np.zeros((9,9)).astype('uint8')\n",
    "wrong = np.array([\n",
    "    [0,0,0,0,0,3,0,8,0],\n",
    "    [3,0,5,0,0,0,5,0,0],\n",
    "    [4,0,2,0,0,5,0,0,0],\n",
    "    [0,0,5,1,7,0,0,2,0],\n",
    "    [0,2,0,0,0,0,0,6,0],\n",
    "    [0,9,0,0,5,2,3,0,0],\n",
    "    [0,0,0,4,0,0,1,0,6],\n",
    "    [0,0,8,0,0,0,0,0,2],\n",
    "    [0,5,0,7,0,0,0,0,0],\n",
    "])"
   ]
  },
  {
   "cell_type": "code",
   "execution_count": 238,
   "metadata": {},
   "outputs": [],
   "source": [
    "def print_sudoku(sudoku):\n",
    "    for i in range(9):\n",
    "        print(' ',end='')\n",
    "        for j in range(9):\n",
    "            if sudoku[i][j] == 0:\n",
    "                print('.',end=' ')\n",
    "            else:\n",
    "                print(sudoku[i][j],end=' ')\n",
    "            if j == 2 or j == 5:\n",
    "                print('|',end=' ')\n",
    "        print()\n",
    "        if i == 2 or i == 5:\n",
    "            print(' ------+-------+------')"
   ]
  },
  {
   "cell_type": "code",
   "execution_count": 239,
   "metadata": {},
   "outputs": [
    {
     "name": "stdout",
     "output_type": "stream",
     "text": [
      " 6 2 . | . . . | . 9 5 \n",
      " . . 1 | . 7 8 | . . 6 \n",
      " . . . | 2 . 6 | 1 . . \n",
      " ------+-------+------\n",
      " . 8 . | . 1 7 | . 5 . \n",
      " . 5 3 | . . . | 4 . 7 \n",
      " 2 . . | 8 5 . | . . . \n",
      " ------+-------+------\n",
      " 8 . . | . 3 2 | 7 . . \n",
      " . 4 9 | . . 5 | 2 . . \n",
      " 7 . . | . 8 . | . 4 3 \n"
     ]
    }
   ],
   "source": [
    "print_sudoku(sudoku)"
   ]
  },
  {
   "cell_type": "code",
   "execution_count": 146,
   "metadata": {},
   "outputs": [],
   "source": [
    "def check_row(sudoku, row, number):\n",
    "    if number in sudoku[row]:\n",
    "        return True\n",
    "    return False\n",
    "\n",
    "def check_col(sudoku, col, number):\n",
    "    if number in sudoku[:, col]:\n",
    "        return True\n",
    "    return False\n",
    "\n",
    "def check_square(sudoku, row, col, number):\n",
    "    row -= row % 3\n",
    "    col -= col % 3\n",
    "    for i in range(3):\n",
    "        for j in range(3):\n",
    "            if sudoku[row+i, col+j] == number:\n",
    "                return True\n",
    "    return False\n",
    "\n",
    "def check_available(sudoku, row, col, number):\n",
    "    if check_row(sudoku, row, number)\\\n",
    "    or check_col(sudoku, col, number)\\\n",
    "    or check_square(sudoku, row, col, number):\n",
    "        return False\n",
    "    return True"
   ]
  },
  {
   "cell_type": "code",
   "execution_count": 156,
   "metadata": {},
   "outputs": [],
   "source": [
    "def get_index(row, column):\n",
    "    return (row * 9) + column\n",
    "\n",
    "def get_row_col(index):\n",
    "    return int(index / 9), (index % 9)"
   ]
  },
  {
   "cell_type": "code",
   "execution_count": 174,
   "metadata": {},
   "outputs": [],
   "source": [
    "def solve(sudoku, index):\n",
    "    if index > 80:\n",
    "        return True\n",
    "    row, col = get_row_col(index)\n",
    "    if sudoku[row, col] != 0:\n",
    "        return(solve(sudoku, index+1))\n",
    "    for n in range(1, 10):\n",
    "        if check_available(sudoku, row, col, n):\n",
    "            sudoku[row, col] = n\n",
    "            if solve(sudoku, index+1):\n",
    "                return True\n",
    "            sudoku[row, col] = 0\n",
    "    return False"
   ]
  },
  {
   "cell_type": "code",
   "execution_count": 215,
   "metadata": {},
   "outputs": [],
   "source": [
    "def solve_sudoku(sudoku):\n",
    "    print_sudoku(sudoku)\n",
    "    print('\\n***********************\\n')\n",
    "    copy = sudoku.copy()\n",
    "    if (solve(copy, 0)):\n",
    "        print_sudoku(copy)\n",
    "    else:\n",
    "        print('Unsolvable')"
   ]
  },
  {
   "cell_type": "code",
   "execution_count": 221,
   "metadata": {},
   "outputs": [
    {
     "name": "stdout",
     "output_type": "stream",
     "text": [
      " 6 2 . | . . . | . 9 5 \n",
      " . . 1 | . 7 8 | . . 6 \n",
      " . . . | 2 . 6 | 1 . . \n",
      " ------+-------+------\n",
      " . 8 . | . 1 7 | . 5 . \n",
      " . 5 3 | . . . | 4 . 7 \n",
      " 2 . . | 8 5 . | . . . \n",
      " ------+-------+------\n",
      " 8 . . | . 3 2 | 7 . . \n",
      " . 4 9 | . . 5 | 2 . . \n",
      " 7 . . | . 8 . | . 4 3 \n",
      "\n",
      "***********************\n",
      "\n",
      " 6 2 7 | 1 4 3 | 8 9 5 \n",
      " 4 9 1 | 5 7 8 | 3 2 6 \n",
      " 5 3 8 | 2 9 6 | 1 7 4 \n",
      " ------+-------+------\n",
      " 9 8 4 | 3 1 7 | 6 5 2 \n",
      " 1 5 3 | 6 2 9 | 4 8 7 \n",
      " 2 7 6 | 8 5 4 | 9 3 1 \n",
      " ------+-------+------\n",
      " 8 1 5 | 4 3 2 | 7 6 9 \n",
      " 3 4 9 | 7 6 5 | 2 1 8 \n",
      " 7 6 2 | 9 8 1 | 5 4 3 \n"
     ]
    }
   ],
   "source": [
    "solve_sudoku(sudoku)"
   ]
  },
  {
   "cell_type": "code",
   "execution_count": null,
   "metadata": {},
   "outputs": [],
   "source": []
  }
 ],
 "metadata": {
  "kernelspec": {
   "display_name": "Python 3",
   "language": "python",
   "name": "python3"
  },
  "language_info": {
   "codemirror_mode": {
    "name": "ipython",
    "version": 3
   },
   "file_extension": ".py",
   "mimetype": "text/x-python",
   "name": "python",
   "nbconvert_exporter": "python",
   "pygments_lexer": "ipython3",
   "version": "3.8.5"
  }
 },
 "nbformat": 4,
 "nbformat_minor": 4
}
